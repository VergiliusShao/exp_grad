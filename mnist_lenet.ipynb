{
 "cells": [
  {
   "cell_type": "code",
   "execution_count": 1,
   "metadata": {},
   "outputs": [],
   "source": [
    "from loss.mnist_lenet import *\n",
    "from solvers.ao_exp_ftrl import fmin \n",
    "import numpy as np"
   ]
  },
  {
   "cell_type": "code",
   "execution_count": 2,
   "metadata": {},
   "outputs": [
    {
     "name": "stdout",
     "output_type": "stream",
     "text": [
      "iteration:  0  attack:  -1.9793376  loss:  1.0  l1:  21.776280234319607  l2:  77.37342683679371\n"
     ]
    },
    {
     "name": "stderr",
     "output_type": "stream",
     "text": [
      "/home/dai/shao/optimisationpy/solvers/ao_exp_ftrl.py:59: RuntimeWarning: invalid value encountered in log\n",
      "  x_val = np.where(abc>=15.0,np.log(abc)-np.log(np.log(abc))+np.log(np.log(abc))/np.log(abc), lambertw( np.exp(abc), k=0).real )/b-a\n"
     ]
    },
    {
     "name": "stdout",
     "output_type": "stream",
     "text": [
      "iteration:  10  attack:  -1.9384181  loss:  -0.6163331401711322  l1:  9.18264268456829  l2:  14.235926164048974\n",
      "iteration:  20  attack:  -1.8955343  loss:  -0.9365937384470023  l1:  5.890524346997509  l2:  6.070063582620478\n",
      "iteration:  30  attack:  -1.8873115  loss:  -1.0064161783964223  l1:  5.193829999873717  l2:  4.2443955331069985\n",
      "iteration:  40  attack:  -1.8993292  loss:  -1.0259728712960432  l1:  5.220520104804097  l2:  4.0700949396276656\n",
      "iteration:  50  attack:  -1.8975351  loss:  -1.0239023548336545  l1:  5.212163406994592  l2:  4.025249992470348\n",
      "iteration:  60  attack:  -1.8895065  loss:  -1.0154267632872882  l1:  5.162503694953944  l2:  3.922536363284249\n",
      "iteration:  70  attack:  -1.8822278  loss:  -1.0059421261875918  l1:  5.133748059082564  l2:  3.8398628368677374\n",
      "iteration:  80  attack:  -1.8748682  loss:  -0.9914627327916752  l1:  5.145744451728169  l2:  3.8464558682274625\n",
      "iteration:  90  attack:  -1.8744054  loss:  -0.9886926044633765  l1:  5.163741402913922  l2:  3.848759242587406\n",
      "iteration:  100  attack:  -1.8739665  loss:  -0.9842468736209895  l1:  5.195686788093989  l2:  3.8924626298759515\n",
      "iteration:  110  attack:  -1.8792398  loss:  -0.9863119721060978  l1:  5.260338642096321  l2:  3.9721620938461397\n",
      "iteration:  120  attack:  -1.8785039  loss:  -0.9807353153737467  l1:  5.298763939249367  l2:  3.9981485164791404\n",
      "iteration:  130  attack:  -1.8778889  loss:  -0.9762412351811662  l1:  5.327782739277  l2:  4.0507077897242425\n",
      "iteration:  140  attack:  -1.8749989  loss:  -0.9703911525229498  l1:  5.333928308617372  l2:  4.05523261290407\n",
      "iteration:  150  attack:  -1.8714467  loss:  -0.9628209761954063  l1:  5.345136022822724  l2:  4.0584955949130475\n",
      "iteration:  160  attack:  -1.8684137  loss:  -0.9570578806532889  l1:  5.348373316094923  l2:  4.057283199756249\n",
      "iteration:  170  attack:  -1.8637054  loss:  -0.9498359296701472  l1:  5.337974147344097  l2:  4.0423922235259555\n",
      "iteration:  180  attack:  -1.8616307  loss:  -0.9442327533632481  l1:  5.354648887534569  l2:  4.062054600605425\n",
      "iteration:  190  attack:  -1.8607543  loss:  -0.9412804851705896  l1:  5.366569203729941  l2:  4.081965818985153\n",
      "iteration:  200  attack:  -1.8608738  loss:  -0.9385593600205114  l1:  5.391893302647583  l2:  4.12270190041828\n",
      "iteration:  210  attack:  -1.8610601  loss:  -0.9371111921849345  l1:  5.407221121401936  l2:  4.148269054382585\n",
      "iteration:  220  attack:  -1.8604786  loss:  -0.9345320828347684  l1:  5.420528106470403  l2:  4.16917817222101\n",
      "iteration:  230  attack:  -1.8605622  loss:  -0.9326258130521058  l1:  5.438414561074504  l2:  4.19473436863547\n",
      "iteration:  240  attack:  -1.8614383  loss:  -0.9329595812594315  l1:  5.448798716379965  l2:  4.216842143913282\n",
      "iteration:  250  attack:  -1.8612292  loss:  -0.93108179977016  l1:  5.461619054337425  l2:  4.240856005258169\n",
      "iteration:  260  attack:  -1.861103  loss:  -0.9300153520364588  l1:  5.468717413101006  l2:  4.255690251887427\n",
      "iteration:  270  attack:  -1.8617089  loss:  -0.9296618329801978  l1:  5.48098023232751  l2:  4.278289153908867\n",
      "iteration:  280  attack:  -1.8612273  loss:  -0.928206631304842  l1:  5.485834188343149  l2:  4.2920018279475265\n",
      "iteration:  290  attack:  -1.8604071  loss:  -0.9257682917393152  l1:  5.493950540473339  l2:  4.310924298864514\n",
      "iteration:  300  attack:  -1.859443  loss:  -0.9236447258850871  l1:  5.4970031299212705  l2:  4.324429858654712\n"
     ]
    }
   ],
   "source": [
    "maxfev=300\n",
    "train_loss=[]\n",
    "cem = CEM(index=344)\n",
    "func=PP_Loss(cem)\n",
    "func_p=PP_Grad(cem)\n",
    "#func_p=Grad_2p(func=func, delta=0.001, n=10)\n",
    "l1=0.06\n",
    "l2=0.006\n",
    "s=np.linalg.svd(cem.pp_init,full_matrices=False,compute_uv=False)\n",
    "regl1=np.linalg.norm(s.flatten(),ord=1)\n",
    "regl2=np.linalg.norm(cem.pp_init.flatten(),ord=2)**2\n",
    "attack=func(cem.pp_init)\n",
    "print('iteration: ',0,' attack: ', attack,' loss: ',1.0,' l1: ',regl1,' l2: ',regl2 )\n",
    "init_loss=attack+l1*regl1+0.5*l2*regl2+1.0\n",
    "train_loss.append(1.0)\n",
    "def callback(res):\n",
    "    s=np.linalg.svd(res.x,full_matrices=False,compute_uv=False)\n",
    "    regl1=np.linalg.norm(s.flatten(),ord=1)\n",
    "    regl2=np.linalg.norm(res.x.flatten(),ord=2)**2\n",
    "    cur_loss=res.func+l1*regl1+0.5*l2*regl2+1.0\n",
    "    print('iteration: ',res.nit,' attack: ', res.func,' loss: ',cur_loss/init_loss,' l1: ',regl1,' l2: ',regl2 )\n",
    "    train_loss.append(cur_loss/init_loss)\n",
    "result = fmin(func=func, func_p=func_p, x0=cem.pp_init, lower=cem.pp_lower, upper=cem.pp_upper,l1=l1,l2=l2,maxfev=maxfev,callback=callback,epoch_size=10)"
   ]
  },
  {
   "cell_type": "code",
   "execution_count": 3,
   "metadata": {},
   "outputs": [
    {
     "name": "stdout",
     "output_type": "stream",
     "text": [
      "\n",
      "[8.]\n",
      "<NDArray 1 @cpu(0)>\n",
      "\n",
      "[8.]\n",
      "<NDArray 1 @cpu(0)>\n",
      "(28, 28)\n"
     ]
    },
    {
     "data": {
      "image/png": "[encoded data removed]",
      "text/plain": [
       "<Figure size 432x288 with 1 Axes>"
      ]
     },
     "metadata": {
      "needs_background": "light"
     },
     "output_type": "display_data"
    }
   ],
   "source": [
    "import matplotlib.pyplot as plt\n",
    "pn = np.zeros(shape=result.x.shape)\n",
    "pn[:]=result.x\n",
    "print(cem.label)\n",
    "print(cem.predict(pn))\n",
    "pn=np.squeeze(pn)\n",
    "plt.imshow(pn)\n",
    "print(pn.shape)"
   ]
  },
  {
   "cell_type": "code",
   "execution_count": null,
   "metadata": {},
   "outputs": [],
   "source": []
  }
 ],
 "metadata": {
  "kernelspec": {
   "display_name": "Python 3",
   "language": "python",
   "name": "python3"
  },
  "language_info": {
   "codemirror_mode": {
    "name": "ipython",
    "version": 3
   },
   "file_extension": ".py",
   "mimetype": "text/x-python",
   "name": "python",
   "nbconvert_exporter": "python",
   "pygments_lexer": "ipython3",
   "version": "3.7.9"
  }
 },
 "nbformat": 4,
 "nbformat_minor": 5
}
